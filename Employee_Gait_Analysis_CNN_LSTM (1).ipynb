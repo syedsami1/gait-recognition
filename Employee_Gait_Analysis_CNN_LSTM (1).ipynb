{
  "cells": [
    {
      "cell_type": "code",
      "execution_count": 2,
      "id": "2e51596d",
      "metadata": {
        "colab": {
          "base_uri": "https://localhost:8080/"
        },
        "id": "2e51596d",
        "outputId": "4d331ea5-2e37-4c0d-91f4-3a038704662d"
      },
      "outputs": [
        {
          "output_type": "stream",
          "name": "stdout",
          "text": [
            "TensorFlow version: 2.19.0\n"
          ]
        }
      ],
      "source": [
        "# Cell 1: Install & imports\n",
        "!pip install --quiet numpy pandas matplotlib seaborn scikit-learn tensorflow\n",
        "\n",
        "import os, glob, zipfile, shutil\n",
        "import numpy as np\n",
        "import pandas as pd\n",
        "import matplotlib.pyplot as plt\n",
        "import seaborn as sns\n",
        "\n",
        "from sklearn.model_selection import train_test_split\n",
        "from sklearn.preprocessing import LabelEncoder, StandardScaler\n",
        "from sklearn.metrics import classification_report, accuracy_score, confusion_matrix\n",
        "\n",
        "import tensorflow as tf\n",
        "from tensorflow.keras import Sequential\n",
        "from tensorflow.keras.layers import Conv1D, MaxPooling1D, LSTM, Dense, Dropout\n",
        "\n",
        "print(\"TensorFlow version:\", tf.__version__)\n",
        "sns.set()\n"
      ]
    },
    {
      "cell_type": "code",
      "source": [
        "# Download & unzip UCI HAR dataset\n",
        "\n",
        "if not os.path.exists(\"UCI HAR Dataset\"):\n",
        "    !wget -q \"https://archive.ics.uci.edu/ml/machine-learning-databases/00240/UCI%20HAR%20Dataset.zip\" -O \"UCI_HAR.zip\"\n",
        "    !unzip -q UCI_HAR.zip -d .\n",
        "    print(\"Downloaded and unzipped UCI HAR Dataset.\")\n",
        "else:\n",
        "    print(\"UCI HAR Dataset already present.\")\n"
      ],
      "metadata": {
        "colab": {
          "base_uri": "https://localhost:8080/"
        },
        "id": "nUmOguRJDvRP",
        "outputId": "b6aac0b7-49f4-4051-d3e0-e52610d93e46"
      },
      "id": "nUmOguRJDvRP",
      "execution_count": 3,
      "outputs": [
        {
          "output_type": "stream",
          "name": "stdout",
          "text": [
            "Downloaded and unzipped UCI HAR Dataset.\n"
          ]
        }
      ]
    },
    {
      "cell_type": "code",
      "source": [
        "#  Build windows CSV from UCI HAR inertial signals\n",
        "# UCI already provides 128-sample windows in Inertial Signals files.\n",
        "base = \"UCI HAR Dataset\"\n",
        "\n",
        "def load_inertial_file(path):\n",
        "    return pd.read_csv(path, header=None, delim_whitespace=True)\n",
        "\n",
        "train_dir = os.path.join(base, \"train\", \"Inertial Signals\")\n",
        "test_dir  = os.path.join(base, \"test\",  \"Inertial Signals\")\n",
        "\n",
        "# total acceleration (already windowed: each row = 128 samples)\n",
        "ta_x_train = load_inertial_file(os.path.join(train_dir, \"total_acc_x_train.txt\"))\n",
        "ta_y_train = load_inertial_file(os.path.join(train_dir, \"total_acc_y_train.txt\"))\n",
        "ta_z_train = load_inertial_file(os.path.join(train_dir, \"total_acc_z_train.txt\"))\n",
        "subjects_train = pd.read_csv(os.path.join(base, \"train\", \"subject_train.txt\"), header=None, names=[\"subject\"])\n",
        "\n",
        "ta_x_test = load_inertial_file(os.path.join(test_dir, \"total_acc_x_test.txt\"))\n",
        "ta_y_test = load_inertial_file(os.path.join(test_dir, \"total_acc_y_test.txt\"))\n",
        "ta_z_test = load_inertial_file(os.path.join(test_dir, \"total_acc_z_test.txt\"))\n",
        "subjects_test = pd.read_csv(os.path.join(base, \"test\", \"subject_test.txt\"), header=None, names=[\"subject\"])\n",
        "\n",
        "def build_windows_df(ax_df, ay_df, az_df, subjects_series):\n",
        "    n = ax_df.shape[0]\n",
        "    rows = []\n",
        "    for i in range(n):\n",
        "        ax_vals = ax_df.iloc[i].values\n",
        "        ay_vals = ay_df.iloc[i].values\n",
        "        az_vals = az_df.iloc[i].values\n",
        "        row = np.concatenate([ax_vals, ay_vals, az_vals])\n",
        "        rows.append(row)\n",
        "    columns = [f\"ax_{i}\" for i in range(ax_df.shape[1])] + \\\n",
        "              [f\"ay_{i}\" for i in range(ay_df.shape[1])] + \\\n",
        "              [f\"az_{i}\" for i in range(az_df.shape[1])]\n",
        "    df = pd.DataFrame(rows, columns=columns)\n",
        "    df[\"subject_id\"] = subjects_series.values\n",
        "    return df\n",
        "\n",
        "train_windows = build_windows_df(ta_x_train, ta_y_train, ta_z_train, subjects_train[\"subject\"])\n",
        "test_windows  = build_windows_df(ta_x_test, ta_y_test, ta_z_test, subjects_test[\"subject\"])\n",
        "full_df = pd.concat([train_windows, test_windows], axis=0).reset_index(drop=True)\n",
        "\n",
        "out_path = \"/content/employees_30_uci_windows.csv\"\n",
        "full_df.to_csv(out_path, index=False)\n",
        "print(\"Saved UCI windows CSV to:\", out_path)\n",
        "print(\"Windows shape:\", full_df.shape)\n"
      ],
      "metadata": {
        "colab": {
          "base_uri": "https://localhost:8080/"
        },
        "id": "qcmyFZlxEJFc",
        "outputId": "1449c286-6a97-4912-c1cb-3ee41614cda8"
      },
      "id": "qcmyFZlxEJFc",
      "execution_count": 4,
      "outputs": [
        {
          "output_type": "stream",
          "name": "stderr",
          "text": [
            "/tmp/ipython-input-2575865396.py:6: FutureWarning: The 'delim_whitespace' keyword in pd.read_csv is deprecated and will be removed in a future version. Use ``sep='\\s+'`` instead\n",
            "  return pd.read_csv(path, header=None, delim_whitespace=True)\n",
            "/tmp/ipython-input-2575865396.py:6: FutureWarning: The 'delim_whitespace' keyword in pd.read_csv is deprecated and will be removed in a future version. Use ``sep='\\s+'`` instead\n",
            "  return pd.read_csv(path, header=None, delim_whitespace=True)\n",
            "/tmp/ipython-input-2575865396.py:6: FutureWarning: The 'delim_whitespace' keyword in pd.read_csv is deprecated and will be removed in a future version. Use ``sep='\\s+'`` instead\n",
            "  return pd.read_csv(path, header=None, delim_whitespace=True)\n",
            "/tmp/ipython-input-2575865396.py:6: FutureWarning: The 'delim_whitespace' keyword in pd.read_csv is deprecated and will be removed in a future version. Use ``sep='\\s+'`` instead\n",
            "  return pd.read_csv(path, header=None, delim_whitespace=True)\n",
            "/tmp/ipython-input-2575865396.py:6: FutureWarning: The 'delim_whitespace' keyword in pd.read_csv is deprecated and will be removed in a future version. Use ``sep='\\s+'`` instead\n",
            "  return pd.read_csv(path, header=None, delim_whitespace=True)\n",
            "/tmp/ipython-input-2575865396.py:6: FutureWarning: The 'delim_whitespace' keyword in pd.read_csv is deprecated and will be removed in a future version. Use ``sep='\\s+'`` instead\n",
            "  return pd.read_csv(path, header=None, delim_whitespace=True)\n"
          ]
        },
        {
          "output_type": "stream",
          "name": "stdout",
          "text": [
            "Saved UCI windows CSV to: /content/employees_30_uci_windows.csv\n",
            "Windows shape: (10299, 385)\n"
          ]
        }
      ]
    },
    {
      "cell_type": "code",
      "source": [
        "# Upload your Physics Toolbox CSVs and append them\n",
        "\n",
        "from pathlib import Path\n",
        "\n",
        "realtime_folder = \"/content/realtime_csvs\"   # create this folder and upload CSVs there\n",
        "Path(realtime_folder).mkdir(parents=True, exist_ok=True)\n",
        "realtime_files = sorted(glob.glob(os.path.join(realtime_folder, \"*.csv\")))\n",
        "print(\"Found realtime CSVs:\", realtime_files)\n",
        "\n",
        "# Edit this mapping for your uploaded filenames:\n",
        "# Example: filename_to_subject = {\"emp01_walk.csv\": 1, \"emp02_walk.csv\": 2}\n",
        "filename_to_subject = {\n",
        "    # put your mappings here, e.g. \"c33dccca-c1b5-4c75-87e9-e9d16406d65c.csv\": 1\n",
        "}\n",
        "\n",
        "def convert_realtime_csv_to_windows(path, subject_id, window_size=128, step=64):\n",
        "    df = pd.read_csv(path)\n",
        "    # try to detect accel column names (common variants)\n",
        "    candidates = {\n",
        "        \"ax\": [\"ax\",\"acc_x\",\"accel_x\",\"acc_x(ms^-2)\",\"x\"],\n",
        "        \"ay\": [\"ay\",\"acc_y\",\"accel_y\",\"acc_y(ms^-2)\",\"y\"],\n",
        "        \"az\": [\"az\",\"acc_z\",\"accel_z\",\"acc_z(ms^-2)\",\"z\"]\n",
        "    }\n",
        "    def find_col(cands):\n",
        "        for c in cands:\n",
        "            if c in df.columns:\n",
        "                return c\n",
        "        return None\n",
        "    ax_col = find_col(candidates[\"ax\"])\n",
        "    ay_col = find_col(candidates[\"ay\"])\n",
        "    az_col = find_col(candidates[\"az\"])\n",
        "    if ax_col is None or ay_col is None or az_col is None:\n",
        "        raise ValueError(f\"Could not detect accel columns in {path}. Found columns: {df.columns.tolist()}\")\n",
        "    ax = df[ax_col].values\n",
        "    ay = df[ay_col].values\n",
        "    az = df[az_col].values\n",
        "    rows = []\n",
        "    for start in range(0, len(ax) - window_size + 1, step):\n",
        "        ax_w = ax[start:start+window_size]\n",
        "        ay_w = ay[start:start+window_size]\n",
        "        az_w = az[start:start+window_size]\n",
        "        rows.append(np.concatenate([ax_w, ay_w, az_w]))\n",
        "    cols = [f\"ax_{i}\" for i in range(window_size)] + [f\"ay_{i}\" for i in range(window_size)] + [f\"az_{i}\" for i in range(window_size)]\n",
        "    out_df = pd.DataFrame(rows, columns=cols)\n",
        "    out_df[\"subject_id\"] = subject_id\n",
        "    return out_df\n",
        "\n",
        "# Append to UCI dataset if mapping provided\n",
        "merged_df = full_df.copy()\n",
        "appended_count = 0\n",
        "for f in realtime_files:\n",
        "    fname = os.path.basename(f)\n",
        "    if fname not in filename_to_subject:\n",
        "        print(f\"Skipping {fname} (no mapping). Add filename->subject_id to filename_to_subject dict.\")\n",
        "        continue\n",
        "    sid = filename_to_subject[fname]\n",
        "    add_df = convert_realtime_csv_to_windows(f, sid, window_size=128, step=64)\n",
        "    merged_df = pd.concat([merged_df, add_df], axis=0)\n",
        "    appended_count += add_df.shape[0]\n",
        "print(f\"Appended {appended_count} windows from realtime CSVs.\")\n",
        "merged_path = \"/content/employees_uci_plus_realtime_windows.csv\"\n",
        "merged_df.to_csv(merged_path, index=False)\n",
        "print(\"Merged CSV saved to:\", merged_path)"
      ],
      "metadata": {
        "colab": {
          "base_uri": "https://localhost:8080/"
        },
        "id": "7MjugT6MESO4",
        "outputId": "0b13f68e-ec00-4ff7-fb68-a2defc1d9108"
      },
      "id": "7MjugT6MESO4",
      "execution_count": 8,
      "outputs": [
        {
          "output_type": "stream",
          "name": "stdout",
          "text": [
            "Found realtime CSVs: []\n",
            "Appended 0 windows from realtime CSVs.\n",
            "Merged CSV saved to: /content/employees_uci_plus_realtime_windows.csv\n"
          ]
        }
      ]
    },
    {
      "cell_type": "markdown",
      "metadata": {
        "id": "0c68fca4"
      },
      "source": [
        "Now that the data is merged, we'll prepare it for training. This involves:\n",
        "\n",
        "1.  Separating the features (the sensor readings) from the labels (the subject IDs).\n",
        "2.  Scaling the features to a similar range, which helps machine learning models perform better."
      ],
      "id": "0c68fca4"
    },
    {
      "cell_type": "code",
      "metadata": {
        "id": "773bb21e"
      },
      "source": [
        "# Prepare data for modeling\n",
        "\n",
        "# Separate features and labels\n",
        "X = merged_df.drop('subject_id', axis=1)\n",
        "y = merged_df['subject_id']\n",
        "\n",
        "# Scale the features\n",
        "scaler = StandardScaler()\n",
        "X_scaled = scaler.fit_transform(X)\n",
        "\n",
        "print(\"Scaled features shape:\", X_scaled.shape)\n",
        "print(\"Labels shape:\", y.shape)"
      ],
      "id": "773bb21e",
      "execution_count": null,
      "outputs": []
    },
    {
      "cell_type": "code",
      "source": [
        "# Cell 5: Load final windows CSV & prepare X,y\n",
        "# By default use merged file if exists, else use UCI-only CSV\n",
        "csv_path = \"/content/employees_uci_plus_realtime_windows.csv\"\n",
        "if not os.path.exists(csv_path):\n",
        "    csv_path = \"/content/employees_30_uci_windows.csv\"\n",
        "print(\"Using windows CSV:\", csv_path)\n",
        "\n",
        "df = pd.read_csv(csv_path)\n",
        "window_len = 128\n",
        "ax_cols = [f\"ax_{i}\" for i in range(window_len)]\n",
        "ay_cols = [f\"ay_{i}\" for i in range(window_len)]\n",
        "az_cols = [f\"az_{i}\" for i in range(window_len)]\n",
        "feature_cols = ax_cols + ay_cols + az_cols\n",
        "\n",
        "# Sanity check\n",
        "for c in feature_cols[:6]:\n",
        "    if c not in df.columns:\n",
        "        raise ValueError(f\"Expected column {c} not found in CSV\")\n",
        "\n",
        "X = df[feature_cols].values\n",
        "y = df[\"subject_id\"].values.astype(int)\n",
        "\n",
        "# reshape flattened windows to (num_windows, 128, 3)\n",
        "X = X.reshape(-1, window_len, 3)\n",
        "print(\"Final X shape (windows, timesteps, features):\", X.shape, \"y shape:\", y.shape)\n",
        "\n",
        "# Encode subject IDs to 0..K-1\n",
        "le = LabelEncoder()\n",
        "y_enc = le.fit_transform(y)\n",
        "n_classes = len(le.classes_)\n",
        "print(\"Number of distinct subjects (employees):\", n_classes)\n",
        "\n",
        "# split (stratified by subject)\n",
        "X_train, X_test, y_train, y_test = train_test_split(X, y_enc, test_size=0.2, random_state=42, stratify=y_enc)\n",
        "print(\"Train shape:\", X_train.shape, \"Test shape:\", X_test.shape)\n"
      ],
      "metadata": {
        "colab": {
          "base_uri": "https://localhost:8080/"
        },
        "id": "EK4bAJiDEmzf",
        "outputId": "1842efdf-a010-42a0-ee9e-b4a06cd70770"
      },
      "id": "EK4bAJiDEmzf",
      "execution_count": 9,
      "outputs": [
        {
          "output_type": "stream",
          "name": "stdout",
          "text": [
            "Using windows CSV: /content/employees_uci_plus_realtime_windows.csv\n",
            "Final X shape (windows, timesteps, features): (10299, 128, 3) y shape: (10299,)\n",
            "Number of distinct subjects (employees): 30\n",
            "Train shape: (8239, 128, 3) Test shape: (2060, 128, 3)\n"
          ]
        }
      ]
    },
    {
      "cell_type": "code",
      "source": [
        "# Cell 6: Scale per-axis and build model\n",
        "# We'll scale axis channels globally (fit on train samples)\n",
        "nsamples, ntimesteps, nfeatures = X_train.shape\n",
        "scaler = StandardScaler()\n",
        "X_train_flat = X_train.reshape(-1, nfeatures)  # (nsamples*timesteps, 3)\n",
        "X_train_flat = scaler.fit_transform(X_train_flat)\n",
        "X_train_scaled = X_train_flat.reshape(nsamples, ntimesteps, nfeatures)\n",
        "\n",
        "# scale test\n",
        "X_test_flat = X_test.reshape(-1, nfeatures)\n",
        "X_test_flat = scaler.transform(X_test_flat)\n",
        "X_test_scaled = X_test_flat.reshape(X_test.shape[0], ntimesteps, nfeatures)\n",
        "\n",
        "print(\"Scaled shapes:\", X_train_scaled.shape, X_test_scaled.shape)\n",
        "\n",
        "# Build CNN+LSTM model\n",
        "model = Sequential([\n",
        "    Conv1D(filters=64, kernel_size=3, activation='relu', input_shape=(ntimesteps, nfeatures)),\n",
        "    MaxPooling1D(pool_size=2),\n",
        "    Dropout(0.3),\n",
        "    Conv1D(filters=128, kernel_size=3, activation='relu'),\n",
        "    MaxPooling1D(pool_size=2),\n",
        "    Dropout(0.3),\n",
        "    LSTM(128),\n",
        "    Dense(128, activation='relu'),\n",
        "    Dropout(0.3),\n",
        "    Dense(n_classes, activation='softmax')\n",
        "])\n",
        "model.compile(optimizer='adam', loss='sparse_categorical_crossentropy', metrics=['accuracy'])\n",
        "model.summary()\n"
      ],
      "metadata": {
        "colab": {
          "base_uri": "https://localhost:8080/",
          "height": 521
        },
        "id": "nRPv781xFJGn",
        "outputId": "0cc0ef6f-d7f1-418b-fa7c-115de9c5416c"
      },
      "id": "nRPv781xFJGn",
      "execution_count": 10,
      "outputs": [
        {
          "output_type": "stream",
          "name": "stdout",
          "text": [
            "Scaled shapes: (8239, 128, 3) (2060, 128, 3)\n"
          ]
        },
        {
          "output_type": "stream",
          "name": "stderr",
          "text": [
            "/usr/local/lib/python3.12/dist-packages/keras/src/layers/convolutional/base_conv.py:113: UserWarning: Do not pass an `input_shape`/`input_dim` argument to a layer. When using Sequential models, prefer using an `Input(shape)` object as the first layer in the model instead.\n",
            "  super().__init__(activity_regularizer=activity_regularizer, **kwargs)\n"
          ]
        },
        {
          "output_type": "display_data",
          "data": {
            "text/plain": [
              "\u001b[1mModel: \"sequential\"\u001b[0m\n"
            ],
            "text/html": [
              "<pre style=\"white-space:pre;overflow-x:auto;line-height:normal;font-family:Menlo,'DejaVu Sans Mono',consolas,'Courier New',monospace\"><span style=\"font-weight: bold\">Model: \"sequential\"</span>\n",
              "</pre>\n"
            ]
          },
          "metadata": {}
        },
        {
          "output_type": "display_data",
          "data": {
            "text/plain": [
              "┏━━━━━━━━━━━━━━━━━━━━━━━━━━━━━━━━━┳━━━━━━━━━━━━━━━━━━━━━━━━┳━━━━━━━━━━━━━━━┓\n",
              "┃\u001b[1m \u001b[0m\u001b[1mLayer (type)                   \u001b[0m\u001b[1m \u001b[0m┃\u001b[1m \u001b[0m\u001b[1mOutput Shape          \u001b[0m\u001b[1m \u001b[0m┃\u001b[1m \u001b[0m\u001b[1m      Param #\u001b[0m\u001b[1m \u001b[0m┃\n",
              "┡━━━━━━━━━━━━━━━━━━━━━━━━━━━━━━━━━╇━━━━━━━━━━━━━━━━━━━━━━━━╇━━━━━━━━━━━━━━━┩\n",
              "│ conv1d (\u001b[38;5;33mConv1D\u001b[0m)                 │ (\u001b[38;5;45mNone\u001b[0m, \u001b[38;5;34m126\u001b[0m, \u001b[38;5;34m64\u001b[0m)        │           \u001b[38;5;34m640\u001b[0m │\n",
              "├─────────────────────────────────┼────────────────────────┼───────────────┤\n",
              "│ max_pooling1d (\u001b[38;5;33mMaxPooling1D\u001b[0m)    │ (\u001b[38;5;45mNone\u001b[0m, \u001b[38;5;34m63\u001b[0m, \u001b[38;5;34m64\u001b[0m)         │             \u001b[38;5;34m0\u001b[0m │\n",
              "├─────────────────────────────────┼────────────────────────┼───────────────┤\n",
              "│ dropout (\u001b[38;5;33mDropout\u001b[0m)               │ (\u001b[38;5;45mNone\u001b[0m, \u001b[38;5;34m63\u001b[0m, \u001b[38;5;34m64\u001b[0m)         │             \u001b[38;5;34m0\u001b[0m │\n",
              "├─────────────────────────────────┼────────────────────────┼───────────────┤\n",
              "│ conv1d_1 (\u001b[38;5;33mConv1D\u001b[0m)               │ (\u001b[38;5;45mNone\u001b[0m, \u001b[38;5;34m61\u001b[0m, \u001b[38;5;34m128\u001b[0m)        │        \u001b[38;5;34m24,704\u001b[0m │\n",
              "├─────────────────────────────────┼────────────────────────┼───────────────┤\n",
              "│ max_pooling1d_1 (\u001b[38;5;33mMaxPooling1D\u001b[0m)  │ (\u001b[38;5;45mNone\u001b[0m, \u001b[38;5;34m30\u001b[0m, \u001b[38;5;34m128\u001b[0m)        │             \u001b[38;5;34m0\u001b[0m │\n",
              "├─────────────────────────────────┼────────────────────────┼───────────────┤\n",
              "│ dropout_1 (\u001b[38;5;33mDropout\u001b[0m)             │ (\u001b[38;5;45mNone\u001b[0m, \u001b[38;5;34m30\u001b[0m, \u001b[38;5;34m128\u001b[0m)        │             \u001b[38;5;34m0\u001b[0m │\n",
              "├─────────────────────────────────┼────────────────────────┼───────────────┤\n",
              "│ lstm (\u001b[38;5;33mLSTM\u001b[0m)                     │ (\u001b[38;5;45mNone\u001b[0m, \u001b[38;5;34m128\u001b[0m)            │       \u001b[38;5;34m131,584\u001b[0m │\n",
              "├─────────────────────────────────┼────────────────────────┼───────────────┤\n",
              "│ dense (\u001b[38;5;33mDense\u001b[0m)                   │ (\u001b[38;5;45mNone\u001b[0m, \u001b[38;5;34m128\u001b[0m)            │        \u001b[38;5;34m16,512\u001b[0m │\n",
              "├─────────────────────────────────┼────────────────────────┼───────────────┤\n",
              "│ dropout_2 (\u001b[38;5;33mDropout\u001b[0m)             │ (\u001b[38;5;45mNone\u001b[0m, \u001b[38;5;34m128\u001b[0m)            │             \u001b[38;5;34m0\u001b[0m │\n",
              "├─────────────────────────────────┼────────────────────────┼───────────────┤\n",
              "│ dense_1 (\u001b[38;5;33mDense\u001b[0m)                 │ (\u001b[38;5;45mNone\u001b[0m, \u001b[38;5;34m30\u001b[0m)             │         \u001b[38;5;34m3,870\u001b[0m │\n",
              "└─────────────────────────────────┴────────────────────────┴───────────────┘\n"
            ],
            "text/html": [
              "<pre style=\"white-space:pre;overflow-x:auto;line-height:normal;font-family:Menlo,'DejaVu Sans Mono',consolas,'Courier New',monospace\">┏━━━━━━━━━━━━━━━━━━━━━━━━━━━━━━━━━┳━━━━━━━━━━━━━━━━━━━━━━━━┳━━━━━━━━━━━━━━━┓\n",
              "┃<span style=\"font-weight: bold\"> Layer (type)                    </span>┃<span style=\"font-weight: bold\"> Output Shape           </span>┃<span style=\"font-weight: bold\">       Param # </span>┃\n",
              "┡━━━━━━━━━━━━━━━━━━━━━━━━━━━━━━━━━╇━━━━━━━━━━━━━━━━━━━━━━━━╇━━━━━━━━━━━━━━━┩\n",
              "│ conv1d (<span style=\"color: #0087ff; text-decoration-color: #0087ff\">Conv1D</span>)                 │ (<span style=\"color: #00d7ff; text-decoration-color: #00d7ff\">None</span>, <span style=\"color: #00af00; text-decoration-color: #00af00\">126</span>, <span style=\"color: #00af00; text-decoration-color: #00af00\">64</span>)        │           <span style=\"color: #00af00; text-decoration-color: #00af00\">640</span> │\n",
              "├─────────────────────────────────┼────────────────────────┼───────────────┤\n",
              "│ max_pooling1d (<span style=\"color: #0087ff; text-decoration-color: #0087ff\">MaxPooling1D</span>)    │ (<span style=\"color: #00d7ff; text-decoration-color: #00d7ff\">None</span>, <span style=\"color: #00af00; text-decoration-color: #00af00\">63</span>, <span style=\"color: #00af00; text-decoration-color: #00af00\">64</span>)         │             <span style=\"color: #00af00; text-decoration-color: #00af00\">0</span> │\n",
              "├─────────────────────────────────┼────────────────────────┼───────────────┤\n",
              "│ dropout (<span style=\"color: #0087ff; text-decoration-color: #0087ff\">Dropout</span>)               │ (<span style=\"color: #00d7ff; text-decoration-color: #00d7ff\">None</span>, <span style=\"color: #00af00; text-decoration-color: #00af00\">63</span>, <span style=\"color: #00af00; text-decoration-color: #00af00\">64</span>)         │             <span style=\"color: #00af00; text-decoration-color: #00af00\">0</span> │\n",
              "├─────────────────────────────────┼────────────────────────┼───────────────┤\n",
              "│ conv1d_1 (<span style=\"color: #0087ff; text-decoration-color: #0087ff\">Conv1D</span>)               │ (<span style=\"color: #00d7ff; text-decoration-color: #00d7ff\">None</span>, <span style=\"color: #00af00; text-decoration-color: #00af00\">61</span>, <span style=\"color: #00af00; text-decoration-color: #00af00\">128</span>)        │        <span style=\"color: #00af00; text-decoration-color: #00af00\">24,704</span> │\n",
              "├─────────────────────────────────┼────────────────────────┼───────────────┤\n",
              "│ max_pooling1d_1 (<span style=\"color: #0087ff; text-decoration-color: #0087ff\">MaxPooling1D</span>)  │ (<span style=\"color: #00d7ff; text-decoration-color: #00d7ff\">None</span>, <span style=\"color: #00af00; text-decoration-color: #00af00\">30</span>, <span style=\"color: #00af00; text-decoration-color: #00af00\">128</span>)        │             <span style=\"color: #00af00; text-decoration-color: #00af00\">0</span> │\n",
              "├─────────────────────────────────┼────────────────────────┼───────────────┤\n",
              "│ dropout_1 (<span style=\"color: #0087ff; text-decoration-color: #0087ff\">Dropout</span>)             │ (<span style=\"color: #00d7ff; text-decoration-color: #00d7ff\">None</span>, <span style=\"color: #00af00; text-decoration-color: #00af00\">30</span>, <span style=\"color: #00af00; text-decoration-color: #00af00\">128</span>)        │             <span style=\"color: #00af00; text-decoration-color: #00af00\">0</span> │\n",
              "├─────────────────────────────────┼────────────────────────┼───────────────┤\n",
              "│ lstm (<span style=\"color: #0087ff; text-decoration-color: #0087ff\">LSTM</span>)                     │ (<span style=\"color: #00d7ff; text-decoration-color: #00d7ff\">None</span>, <span style=\"color: #00af00; text-decoration-color: #00af00\">128</span>)            │       <span style=\"color: #00af00; text-decoration-color: #00af00\">131,584</span> │\n",
              "├─────────────────────────────────┼────────────────────────┼───────────────┤\n",
              "│ dense (<span style=\"color: #0087ff; text-decoration-color: #0087ff\">Dense</span>)                   │ (<span style=\"color: #00d7ff; text-decoration-color: #00d7ff\">None</span>, <span style=\"color: #00af00; text-decoration-color: #00af00\">128</span>)            │        <span style=\"color: #00af00; text-decoration-color: #00af00\">16,512</span> │\n",
              "├─────────────────────────────────┼────────────────────────┼───────────────┤\n",
              "│ dropout_2 (<span style=\"color: #0087ff; text-decoration-color: #0087ff\">Dropout</span>)             │ (<span style=\"color: #00d7ff; text-decoration-color: #00d7ff\">None</span>, <span style=\"color: #00af00; text-decoration-color: #00af00\">128</span>)            │             <span style=\"color: #00af00; text-decoration-color: #00af00\">0</span> │\n",
              "├─────────────────────────────────┼────────────────────────┼───────────────┤\n",
              "│ dense_1 (<span style=\"color: #0087ff; text-decoration-color: #0087ff\">Dense</span>)                 │ (<span style=\"color: #00d7ff; text-decoration-color: #00d7ff\">None</span>, <span style=\"color: #00af00; text-decoration-color: #00af00\">30</span>)             │         <span style=\"color: #00af00; text-decoration-color: #00af00\">3,870</span> │\n",
              "└─────────────────────────────────┴────────────────────────┴───────────────┘\n",
              "</pre>\n"
            ]
          },
          "metadata": {}
        },
        {
          "output_type": "display_data",
          "data": {
            "text/plain": [
              "\u001b[1m Total params: \u001b[0m\u001b[38;5;34m177,310\u001b[0m (692.62 KB)\n"
            ],
            "text/html": [
              "<pre style=\"white-space:pre;overflow-x:auto;line-height:normal;font-family:Menlo,'DejaVu Sans Mono',consolas,'Courier New',monospace\"><span style=\"font-weight: bold\"> Total params: </span><span style=\"color: #00af00; text-decoration-color: #00af00\">177,310</span> (692.62 KB)\n",
              "</pre>\n"
            ]
          },
          "metadata": {}
        },
        {
          "output_type": "display_data",
          "data": {
            "text/plain": [
              "\u001b[1m Trainable params: \u001b[0m\u001b[38;5;34m177,310\u001b[0m (692.62 KB)\n"
            ],
            "text/html": [
              "<pre style=\"white-space:pre;overflow-x:auto;line-height:normal;font-family:Menlo,'DejaVu Sans Mono',consolas,'Courier New',monospace\"><span style=\"font-weight: bold\"> Trainable params: </span><span style=\"color: #00af00; text-decoration-color: #00af00\">177,310</span> (692.62 KB)\n",
              "</pre>\n"
            ]
          },
          "metadata": {}
        },
        {
          "output_type": "display_data",
          "data": {
            "text/plain": [
              "\u001b[1m Non-trainable params: \u001b[0m\u001b[38;5;34m0\u001b[0m (0.00 B)\n"
            ],
            "text/html": [
              "<pre style=\"white-space:pre;overflow-x:auto;line-height:normal;font-family:Menlo,'DejaVu Sans Mono',consolas,'Courier New',monospace\"><span style=\"font-weight: bold\"> Non-trainable params: </span><span style=\"color: #00af00; text-decoration-color: #00af00\">0</span> (0.00 B)\n",
              "</pre>\n"
            ]
          },
          "metadata": {}
        }
      ]
    },
    {
      "cell_type": "code",
      "source": [
        "# Cell 7: Train with EarlyStopping callback\n",
        "from tensorflow.keras.callbacks import EarlyStopping, ModelCheckpoint\n",
        "\n",
        "es = EarlyStopping(monitor='val_loss', patience=6, restore_best_weights=True, verbose=1)\n",
        "ckpt_path = \"/content/gait_cnn_lstm_best.h5\"\n",
        "mc = ModelCheckpoint(ckpt_path, monitor='val_loss', save_best_only=True, verbose=1)\n",
        "\n",
        "history = model.fit(\n",
        "    X_train_scaled, y_train,\n",
        "    validation_split=0.1,\n",
        "    epochs=40,\n",
        "    batch_size=64,\n",
        "    callbacks=[es, mc],\n",
        "    verbose=2\n",
        ")\n",
        "\n",
        "# Plot training curves\n",
        "plt.figure(figsize=(8,4))\n",
        "plt.plot(history.history['loss'], label='train_loss')\n",
        "plt.plot(history.history['val_loss'], label='val_loss')\n",
        "plt.legend(); plt.title(\"Loss\"); plt.show()\n",
        "\n",
        "plt.figure(figsize=(8,4))\n",
        "plt.plot(history.history['accuracy'], label='train_acc')\n",
        "plt.plot(history.history['val_accuracy'], label='val_acc')\n",
        "plt.legend(); plt.title(\"Accuracy\"); plt.show()\n"
      ],
      "metadata": {
        "colab": {
          "base_uri": "https://localhost:8080/",
          "height": 1000
        },
        "id": "V0d52AYxFMpS",
        "outputId": "66700c0e-4d56-450f-80df-302633cb2280"
      },
      "id": "V0d52AYxFMpS",
      "execution_count": 11,
      "outputs": [
        {
          "output_type": "stream",
          "name": "stdout",
          "text": [
            "Epoch 1/40\n",
            "\n",
            "Epoch 1: val_loss improved from inf to 3.00663, saving model to /content/gait_cnn_lstm_best.h5\n"
          ]
        },
        {
          "output_type": "stream",
          "name": "stderr",
          "text": [
            "WARNING:absl:You are saving your model as an HDF5 file via `model.save()` or `keras.saving.save_model(model)`. This file format is considered legacy. We recommend using instead the native Keras format, e.g. `model.save('my_model.keras')` or `keras.saving.save_model(model, 'my_model.keras')`. \n"
          ]
        },
        {
          "output_type": "stream",
          "name": "stdout",
          "text": [
            "116/116 - 16s - 134ms/step - accuracy: 0.0798 - loss: 3.2088 - val_accuracy: 0.1068 - val_loss: 3.0066\n",
            "Epoch 2/40\n",
            "\n",
            "Epoch 2: val_loss improved from 3.00663 to 2.60720, saving model to /content/gait_cnn_lstm_best.h5\n"
          ]
        },
        {
          "output_type": "stream",
          "name": "stderr",
          "text": [
            "WARNING:absl:You are saving your model as an HDF5 file via `model.save()` or `keras.saving.save_model(model)`. This file format is considered legacy. We recommend using instead the native Keras format, e.g. `model.save('my_model.keras')` or `keras.saving.save_model(model, 'my_model.keras')`. \n"
          ]
        },
        {
          "output_type": "stream",
          "name": "stdout",
          "text": [
            "116/116 - 11s - 97ms/step - accuracy: 0.1587 - loss: 2.8397 - val_accuracy: 0.2209 - val_loss: 2.6072\n",
            "Epoch 3/40\n",
            "\n",
            "Epoch 3: val_loss improved from 2.60720 to 2.53301, saving model to /content/gait_cnn_lstm_best.h5\n"
          ]
        },
        {
          "output_type": "stream",
          "name": "stderr",
          "text": [
            "WARNING:absl:You are saving your model as an HDF5 file via `model.save()` or `keras.saving.save_model(model)`. This file format is considered legacy. We recommend using instead the native Keras format, e.g. `model.save('my_model.keras')` or `keras.saving.save_model(model, 'my_model.keras')`. \n"
          ]
        },
        {
          "output_type": "stream",
          "name": "stdout",
          "text": [
            "116/116 - 21s - 178ms/step - accuracy: 0.2301 - loss: 2.5115 - val_accuracy: 0.2646 - val_loss: 2.5330\n",
            "Epoch 4/40\n",
            "\n",
            "Epoch 4: val_loss improved from 2.53301 to 2.24352, saving model to /content/gait_cnn_lstm_best.h5\n"
          ]
        },
        {
          "output_type": "stream",
          "name": "stderr",
          "text": [
            "WARNING:absl:You are saving your model as an HDF5 file via `model.save()` or `keras.saving.save_model(model)`. This file format is considered legacy. We recommend using instead the native Keras format, e.g. `model.save('my_model.keras')` or `keras.saving.save_model(model, 'my_model.keras')`. \n"
          ]
        },
        {
          "output_type": "stream",
          "name": "stdout",
          "text": [
            "116/116 - 12s - 100ms/step - accuracy: 0.2936 - loss: 2.2680 - val_accuracy: 0.3107 - val_loss: 2.2435\n",
            "Epoch 5/40\n",
            "\n",
            "Epoch 5: val_loss improved from 2.24352 to 1.79531, saving model to /content/gait_cnn_lstm_best.h5\n"
          ]
        },
        {
          "output_type": "stream",
          "name": "stderr",
          "text": [
            "WARNING:absl:You are saving your model as an HDF5 file via `model.save()` or `keras.saving.save_model(model)`. This file format is considered legacy. We recommend using instead the native Keras format, e.g. `model.save('my_model.keras')` or `keras.saving.save_model(model, 'my_model.keras')`. \n"
          ]
        },
        {
          "output_type": "stream",
          "name": "stdout",
          "text": [
            "116/116 - 15s - 130ms/step - accuracy: 0.3528 - loss: 2.0410 - val_accuracy: 0.4320 - val_loss: 1.7953\n",
            "Epoch 6/40\n",
            "\n",
            "Epoch 6: val_loss improved from 1.79531 to 1.71504, saving model to /content/gait_cnn_lstm_best.h5\n"
          ]
        },
        {
          "output_type": "stream",
          "name": "stderr",
          "text": [
            "WARNING:absl:You are saving your model as an HDF5 file via `model.save()` or `keras.saving.save_model(model)`. This file format is considered legacy. We recommend using instead the native Keras format, e.g. `model.save('my_model.keras')` or `keras.saving.save_model(model, 'my_model.keras')`. \n"
          ]
        },
        {
          "output_type": "stream",
          "name": "stdout",
          "text": [
            "116/116 - 16s - 138ms/step - accuracy: 0.3980 - loss: 1.8817 - val_accuracy: 0.4272 - val_loss: 1.7150\n",
            "Epoch 7/40\n",
            "\n",
            "Epoch 7: val_loss did not improve from 1.71504\n",
            "116/116 - 11s - 94ms/step - accuracy: 0.4271 - loss: 1.7761 - val_accuracy: 0.4393 - val_loss: 1.7466\n",
            "Epoch 8/40\n",
            "\n",
            "Epoch 8: val_loss did not improve from 1.71504\n",
            "116/116 - 11s - 94ms/step - accuracy: 0.4592 - loss: 1.6572 - val_accuracy: 0.4272 - val_loss: 1.7682\n",
            "Epoch 9/40\n",
            "\n",
            "Epoch 9: val_loss improved from 1.71504 to 1.65353, saving model to /content/gait_cnn_lstm_best.h5\n"
          ]
        },
        {
          "output_type": "stream",
          "name": "stderr",
          "text": [
            "WARNING:absl:You are saving your model as an HDF5 file via `model.save()` or `keras.saving.save_model(model)`. This file format is considered legacy. We recommend using instead the native Keras format, e.g. `model.save('my_model.keras')` or `keras.saving.save_model(model, 'my_model.keras')`. \n"
          ]
        },
        {
          "output_type": "stream",
          "name": "stdout",
          "text": [
            "116/116 - 11s - 94ms/step - accuracy: 0.4770 - loss: 1.5881 - val_accuracy: 0.4393 - val_loss: 1.6535\n",
            "Epoch 10/40\n",
            "\n",
            "Epoch 10: val_loss improved from 1.65353 to 1.60294, saving model to /content/gait_cnn_lstm_best.h5\n"
          ]
        },
        {
          "output_type": "stream",
          "name": "stderr",
          "text": [
            "WARNING:absl:You are saving your model as an HDF5 file via `model.save()` or `keras.saving.save_model(model)`. This file format is considered legacy. We recommend using instead the native Keras format, e.g. `model.save('my_model.keras')` or `keras.saving.save_model(model, 'my_model.keras')`. \n"
          ]
        },
        {
          "output_type": "stream",
          "name": "stdout",
          "text": [
            "116/116 - 20s - 171ms/step - accuracy: 0.5109 - loss: 1.4700 - val_accuracy: 0.4782 - val_loss: 1.6029\n",
            "Epoch 11/40\n",
            "\n",
            "Epoch 11: val_loss improved from 1.60294 to 1.40591, saving model to /content/gait_cnn_lstm_best.h5\n"
          ]
        },
        {
          "output_type": "stream",
          "name": "stderr",
          "text": [
            "WARNING:absl:You are saving your model as an HDF5 file via `model.save()` or `keras.saving.save_model(model)`. This file format is considered legacy. We recommend using instead the native Keras format, e.g. `model.save('my_model.keras')` or `keras.saving.save_model(model, 'my_model.keras')`. \n"
          ]
        },
        {
          "output_type": "stream",
          "name": "stdout",
          "text": [
            "116/116 - 10s - 89ms/step - accuracy: 0.5327 - loss: 1.3792 - val_accuracy: 0.5182 - val_loss: 1.4059\n",
            "Epoch 12/40\n",
            "\n",
            "Epoch 12: val_loss did not improve from 1.40591\n",
            "116/116 - 11s - 94ms/step - accuracy: 0.5434 - loss: 1.3363 - val_accuracy: 0.5109 - val_loss: 1.4434\n",
            "Epoch 13/40\n",
            "\n",
            "Epoch 13: val_loss improved from 1.40591 to 1.23243, saving model to /content/gait_cnn_lstm_best.h5\n"
          ]
        },
        {
          "output_type": "stream",
          "name": "stderr",
          "text": [
            "WARNING:absl:You are saving your model as an HDF5 file via `model.save()` or `keras.saving.save_model(model)`. This file format is considered legacy. We recommend using instead the native Keras format, e.g. `model.save('my_model.keras')` or `keras.saving.save_model(model, 'my_model.keras')`. \n"
          ]
        },
        {
          "output_type": "stream",
          "name": "stdout",
          "text": [
            "116/116 - 21s - 178ms/step - accuracy: 0.5637 - loss: 1.2555 - val_accuracy: 0.5813 - val_loss: 1.2324\n",
            "Epoch 14/40\n",
            "\n",
            "Epoch 14: val_loss did not improve from 1.23243\n",
            "116/116 - 11s - 97ms/step - accuracy: 0.5763 - loss: 1.2198 - val_accuracy: 0.5158 - val_loss: 1.4286\n",
            "Epoch 15/40\n",
            "\n",
            "Epoch 15: val_loss improved from 1.23243 to 1.22422, saving model to /content/gait_cnn_lstm_best.h5\n"
          ]
        },
        {
          "output_type": "stream",
          "name": "stderr",
          "text": [
            "WARNING:absl:You are saving your model as an HDF5 file via `model.save()` or `keras.saving.save_model(model)`. This file format is considered legacy. We recommend using instead the native Keras format, e.g. `model.save('my_model.keras')` or `keras.saving.save_model(model, 'my_model.keras')`. \n"
          ]
        },
        {
          "output_type": "stream",
          "name": "stdout",
          "text": [
            "116/116 - 11s - 97ms/step - accuracy: 0.5705 - loss: 1.2333 - val_accuracy: 0.5752 - val_loss: 1.2242\n",
            "Epoch 16/40\n",
            "\n",
            "Epoch 16: val_loss did not improve from 1.22422\n",
            "116/116 - 10s - 84ms/step - accuracy: 0.6042 - loss: 1.1355 - val_accuracy: 0.4794 - val_loss: 1.5193\n",
            "Epoch 17/40\n",
            "\n",
            "Epoch 17: val_loss improved from 1.22422 to 1.17560, saving model to /content/gait_cnn_lstm_best.h5\n"
          ]
        },
        {
          "output_type": "stream",
          "name": "stderr",
          "text": [
            "WARNING:absl:You are saving your model as an HDF5 file via `model.save()` or `keras.saving.save_model(model)`. This file format is considered legacy. We recommend using instead the native Keras format, e.g. `model.save('my_model.keras')` or `keras.saving.save_model(model, 'my_model.keras')`. \n"
          ]
        },
        {
          "output_type": "stream",
          "name": "stdout",
          "text": [
            "116/116 - 11s - 99ms/step - accuracy: 0.6169 - loss: 1.1022 - val_accuracy: 0.5910 - val_loss: 1.1756\n",
            "Epoch 18/40\n",
            "\n",
            "Epoch 18: val_loss did not improve from 1.17560\n",
            "116/116 - 11s - 98ms/step - accuracy: 0.6281 - loss: 1.0459 - val_accuracy: 0.6056 - val_loss: 1.1923\n",
            "Epoch 19/40\n",
            "\n",
            "Epoch 19: val_loss did not improve from 1.17560\n",
            "116/116 - 20s - 174ms/step - accuracy: 0.6344 - loss: 1.0407 - val_accuracy: 0.5680 - val_loss: 1.2407\n",
            "Epoch 20/40\n",
            "\n",
            "Epoch 20: val_loss improved from 1.17560 to 1.11376, saving model to /content/gait_cnn_lstm_best.h5\n"
          ]
        },
        {
          "output_type": "stream",
          "name": "stderr",
          "text": [
            "WARNING:absl:You are saving your model as an HDF5 file via `model.save()` or `keras.saving.save_model(model)`. This file format is considered legacy. We recommend using instead the native Keras format, e.g. `model.save('my_model.keras')` or `keras.saving.save_model(model, 'my_model.keras')`. \n"
          ]
        },
        {
          "output_type": "stream",
          "name": "stdout",
          "text": [
            "116/116 - 11s - 97ms/step - accuracy: 0.6417 - loss: 1.0023 - val_accuracy: 0.6092 - val_loss: 1.1138\n",
            "Epoch 21/40\n",
            "\n",
            "Epoch 21: val_loss improved from 1.11376 to 1.06436, saving model to /content/gait_cnn_lstm_best.h5\n"
          ]
        },
        {
          "output_type": "stream",
          "name": "stderr",
          "text": [
            "WARNING:absl:You are saving your model as an HDF5 file via `model.save()` or `keras.saving.save_model(model)`. This file format is considered legacy. We recommend using instead the native Keras format, e.g. `model.save('my_model.keras')` or `keras.saving.save_model(model, 'my_model.keras')`. \n"
          ]
        },
        {
          "output_type": "stream",
          "name": "stdout",
          "text": [
            "116/116 - 11s - 93ms/step - accuracy: 0.6595 - loss: 0.9567 - val_accuracy: 0.6117 - val_loss: 1.0644\n",
            "Epoch 22/40\n",
            "\n",
            "Epoch 22: val_loss improved from 1.06436 to 0.94806, saving model to /content/gait_cnn_lstm_best.h5\n"
          ]
        },
        {
          "output_type": "stream",
          "name": "stderr",
          "text": [
            "WARNING:absl:You are saving your model as an HDF5 file via `model.save()` or `keras.saving.save_model(model)`. This file format is considered legacy. We recommend using instead the native Keras format, e.g. `model.save('my_model.keras')` or `keras.saving.save_model(model, 'my_model.keras')`. \n"
          ]
        },
        {
          "output_type": "stream",
          "name": "stdout",
          "text": [
            "116/116 - 10s - 88ms/step - accuracy: 0.6670 - loss: 0.9394 - val_accuracy: 0.6541 - val_loss: 0.9481\n",
            "Epoch 23/40\n",
            "\n",
            "Epoch 23: val_loss did not improve from 0.94806\n",
            "116/116 - 11s - 98ms/step - accuracy: 0.6732 - loss: 0.8992 - val_accuracy: 0.5789 - val_loss: 1.1739\n",
            "Epoch 24/40\n",
            "\n",
            "Epoch 24: val_loss did not improve from 0.94806\n",
            "116/116 - 20s - 176ms/step - accuracy: 0.6931 - loss: 0.8599 - val_accuracy: 0.5995 - val_loss: 1.2346\n",
            "Epoch 25/40\n",
            "\n",
            "Epoch 25: val_loss did not improve from 0.94806\n",
            "116/116 - 20s - 175ms/step - accuracy: 0.6889 - loss: 0.8698 - val_accuracy: 0.5170 - val_loss: 1.4030\n",
            "Epoch 26/40\n",
            "\n",
            "Epoch 26: val_loss did not improve from 0.94806\n",
            "116/116 - 10s - 88ms/step - accuracy: 0.6953 - loss: 0.8351 - val_accuracy: 0.6311 - val_loss: 1.0601\n",
            "Epoch 27/40\n",
            "\n",
            "Epoch 27: val_loss did not improve from 0.94806\n",
            "116/116 - 12s - 99ms/step - accuracy: 0.7073 - loss: 0.8242 - val_accuracy: 0.6117 - val_loss: 1.0993\n",
            "Epoch 28/40\n",
            "\n",
            "Epoch 28: val_loss did not improve from 0.94806\n",
            "116/116 - 11s - 96ms/step - accuracy: 0.7146 - loss: 0.8203 - val_accuracy: 0.5595 - val_loss: 1.3677\n",
            "Epoch 28: early stopping\n",
            "Restoring model weights from the end of the best epoch: 22.\n"
          ]
        },
        {
          "output_type": "display_data",
          "data": {
            "text/plain": [
              "<Figure size 800x400 with 1 Axes>"
            ],
            "image/png": "[encoded data removed]"
          },
          "metadata": {}
        },
        {
          "output_type": "display_data",
          "data": {
            "text/plain": [
              "<Figure size 800x400 with 1 Axes>"
            ],
            "image/png": "[encoded data removed]"
          },
          "metadata": {}
        }
      ]
    },
    {
      "cell_type": "code",
      "source": [
        "# Cell 8: Evaluate on test set\n",
        "# Load best model weights (if saved)\n",
        "if os.path.exists(ckpt_path):\n",
        "    model.load_weights(ckpt_path)\n",
        "y_pred_probs = model.predict(X_test_scaled, verbose=0)\n",
        "y_pred = np.argmax(y_pred_probs, axis=1)\n",
        "\n",
        "print(\"Test accuracy:\", accuracy_score(y_test, y_pred))\n",
        "print(\"\\nClassification report (per-subject):\\n\")\n",
        "print(classification_report(y_test, y_pred, target_names=[str(x) for x in le.classes_]))\n",
        "\n",
        "# Confusion matrix (may be large for 30 classes)\n",
        "cm = confusion_matrix(y_test, y_pred)\n",
        "plt.figure(figsize=(10,8))\n",
        "sns.heatmap(cm, cmap=\"Blues\", cbar=True)\n",
        "plt.xlabel(\"Predicted\")\n",
        "plt.ylabel(\"True\")\n",
        "plt.title(\"Confusion matrix (subjects)\")\n",
        "plt.show()\n"
      ],
      "metadata": {
        "colab": {
          "base_uri": "https://localhost:8080/",
          "height": 1000
        },
        "id": "GeEi5WJxFRxy",
        "outputId": "98bac7aa-a59b-4eb9-adc5-e11d0a3fefa7"
      },
      "id": "GeEi5WJxFRxy",
      "execution_count": 12,
      "outputs": [
        {
          "output_type": "stream",
          "name": "stdout",
          "text": [
            "Test accuracy: 0.6558252427184466\n",
            "\n",
            "Classification report (per-subject):\n",
            "\n",
            "              precision    recall  f1-score   support\n",
            "\n",
            "           1       0.59      0.59      0.59        69\n",
            "           2       0.61      0.52      0.56        60\n",
            "           3       0.50      0.51      0.51        68\n",
            "           4       0.70      0.79      0.75        63\n",
            "           5       0.59      0.80      0.68        60\n",
            "           6       0.91      0.60      0.72        65\n",
            "           7       0.58      0.53      0.55        62\n",
            "           8       0.55      0.48      0.51        56\n",
            "           9       0.95      0.72      0.82        58\n",
            "          10       0.88      0.75      0.81        59\n",
            "          11       0.70      0.81      0.75        63\n",
            "          12       0.57      0.61      0.59        64\n",
            "          13       0.59      0.52      0.55        65\n",
            "          14       0.68      0.63      0.66        65\n",
            "          15       0.78      0.64      0.70        66\n",
            "          16       0.73      0.74      0.73        73\n",
            "          17       0.64      0.39      0.49        74\n",
            "          18       0.61      0.56      0.59        73\n",
            "          19       0.60      0.83      0.70        72\n",
            "          20       0.61      0.44      0.51        71\n",
            "          21       0.68      0.89      0.77        82\n",
            "          22       0.54      0.58      0.56        64\n",
            "          23       0.69      0.82      0.75        74\n",
            "          24       0.57      0.66      0.61        76\n",
            "          25       0.76      0.63      0.69        82\n",
            "          26       0.62      0.80      0.70        79\n",
            "          27       0.58      0.81      0.67        75\n",
            "          28       0.65      0.70      0.68        76\n",
            "          29       0.79      0.59      0.68        69\n",
            "          30       0.73      0.62      0.67        77\n",
            "\n",
            "    accuracy                           0.66      2060\n",
            "   macro avg       0.67      0.65      0.65      2060\n",
            "weighted avg       0.67      0.66      0.65      2060\n",
            "\n"
          ]
        },
        {
          "output_type": "display_data",
          "data": {
            "text/plain": [
              "<Figure size 1000x800 with 2 Axes>"
            ],
            "image/png": "[encoded data removed]"
          },
          "metadata": {}
        }
      ]
    },
    {
      "cell_type": "code",
      "source": [
        "# Cell 9: Save model & scaler & encoder\n",
        "model_save_path = \"/content/gait_cnn_lstm_best.h5\"\n",
        "model.save(model_save_path)  # saves SavedModel format\n",
        "print(\"Saved TF model to:\", model_save_path)\n",
        "\n",
        "# Save scaler and label encoder using joblib\n",
        "!pip install --quiet joblib\n",
        "import joblib\n",
        "joblib.dump(scaler, \"/content/scaler_joblib.pkl\")\n",
        "joblib.dump(le, \"/content/label_encoder_joblib.pkl\")\n",
        "print(\"Saved scaler and label encoder.\")\n"
      ],
      "metadata": {
        "colab": {
          "base_uri": "https://localhost:8080/"
        },
        "id": "zcCV8APKFghq",
        "outputId": "edcd0c5f-c0e7-4838-82cb-92b7f7a2e1bf"
      },
      "id": "zcCV8APKFghq",
      "execution_count": 14,
      "outputs": [
        {
          "output_type": "stream",
          "name": "stderr",
          "text": [
            "WARNING:absl:You are saving your model as an HDF5 file via `model.save()` or `keras.saving.save_model(model)`. This file format is considered legacy. We recommend using instead the native Keras format, e.g. `model.save('my_model.keras')` or `keras.saving.save_model(model, 'my_model.keras')`. \n"
          ]
        },
        {
          "output_type": "stream",
          "name": "stdout",
          "text": [
            "Saved TF model to: /content/gait_cnn_lstm_best.h5\n",
            "Saved scaler and label encoder.\n"
          ]
        }
      ]
    },
    {
      "cell_type": "code",
      "source": [
        "# Cell 10: Real-time check-in helper (use when a phone uploads a 128-sample window)\n",
        "import numpy as np, joblib\n",
        "scaler = joblib.load(\"/content/scaler_joblib.pkl\")\n",
        "le = joblib.load(\"/content/label_encoder_joblib.pkl\")\n",
        "# model already loaded\n",
        "\n",
        "def check_in_from_raw_window(raw_window, threshold=0.6):\n",
        "    \"\"\"\n",
        "    raw_window: numpy array shape (128,3) in same units as training windows (ax,ay,az)\n",
        "    threshold: confidence threshold to allow access\n",
        "    \"\"\"\n",
        "    if raw_window.shape != (ntimesteps, nfeatures):\n",
        "        raise ValueError(f\"raw_window must be shape {(ntimesteps, nfeatures)}\")\n",
        "    scaled = scaler.transform(raw_window.reshape(-1,3)).reshape(1, ntimesteps, nfeatures)\n",
        "    probs = model.predict(scaled)[0]\n",
        "    idx = np.argmax(probs)\n",
        "    prob = probs[idx]\n",
        "    subj_label = le.inverse_transform([idx])[0]\n",
        "    if prob >= threshold:\n",
        "        print(f\"✅ ACCESS GRANTED -> subject {subj_label} (confidence {prob:.2f})\")\n",
        "    else:\n",
        "        print(f\"❌ ACCESS DENIED -> top={subj_label}, conf={prob:.2f} < {threshold}\")\n",
        "    return subj_label, float(prob)\n",
        "\n",
        "# Demo with a random test window\n",
        "rand_idx = np.random.randint(0, X_test.shape[0])\n",
        "demo_raw = X_test[rand_idx]  # raw (not scaled)\n",
        "check_in_from_raw_window(demo_raw, threshold=0.65)\n"
      ],
      "metadata": {
        "colab": {
          "base_uri": "https://localhost:8080/"
        },
        "id": "A73DZt3tFipb",
        "outputId": "6aba423b-90c8-4f16-8747-79566db7e500"
      },
      "id": "A73DZt3tFipb",
      "execution_count": 15,
      "outputs": [
        {
          "output_type": "stream",
          "name": "stdout",
          "text": [
            "\u001b[1m1/1\u001b[0m \u001b[32m━━━━━━━━━━━━━━━━━━━━\u001b[0m\u001b[37m\u001b[0m \u001b[1m0s\u001b[0m 115ms/step\n",
            "❌ ACCESS DENIED -> top=26, conf=0.28 < 0.65\n"
          ]
        },
        {
          "output_type": "execute_result",
          "data": {
            "text/plain": [
              "(np.int64(26), 0.2829727530479431)"
            ]
          },
          "metadata": {},
          "execution_count": 15
        }
      ]
    }
  ],
  "metadata": {
    "colab": {
      "provenance": []
    },
    "language_info": {
      "name": "python"
    },
    "kernelspec": {
      "name": "python3",
      "display_name": "Python 3"
    }
  },
  "nbformat": 4,
  "nbformat_minor": 5
}